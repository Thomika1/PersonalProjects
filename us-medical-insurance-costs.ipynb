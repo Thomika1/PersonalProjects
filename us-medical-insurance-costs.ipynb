{
 "cells": [
  {
   "cell_type": "markdown",
   "metadata": {},
   "source": [
    "# U.S. Medical Insurance Costs"
   ]
  },
  {
   "cell_type": "code",
   "execution_count": 20,
   "metadata": {},
   "outputs": [],
   "source": [
    "import csv"
   ]
  },
  {
   "cell_type": "code",
   "execution_count": 100,
   "metadata": {},
   "outputs": [],
   "source": [
    "ages = []\n",
    "sex = []\n",
    "bmi = []\n",
    "children = []\n",
    "smoker = []\n",
    "region = []\n",
    "charges = []"
   ]
  },
  {
   "cell_type": "code",
   "execution_count": 102,
   "metadata": {},
   "outputs": [],
   "source": [
    "with open('/home/thomaz/Downloads/python-portfolio-project-starter-files/insurance.csv') as csv_file:\n",
    "    insurance_data = csv.DictReader(csv_file)\n",
    "    for row in insurance_data:\n",
    "        ages.append(int(row['age']))\n",
    "        sex.append(row['sex'])\n",
    "        bmi.append(float(row['bmi']))\n",
    "        children.append(int(row['children']))\n",
    "        smoker.append(row['smoker'])\n",
    "        region.append(row['region'])\n",
    "        charges.append(float(row['charges']))"
   ]
  },
  {
   "cell_type": "code",
   "execution_count": 103,
   "metadata": {},
   "outputs": [],
   "source": [
    "avg_ages = sum(ages)/len(ages)"
   ]
  },
  {
   "cell_type": "code",
   "execution_count": 104,
   "metadata": {},
   "outputs": [
    {
     "name": "stdout",
     "output_type": "stream",
     "text": [
      "39.20702541106129\n"
     ]
    }
   ],
   "source": [
    "print(avg_ages)"
   ]
  },
  {
   "cell_type": "code",
   "execution_count": 105,
   "metadata": {},
   "outputs": [],
   "source": [
    "region_most_residents = max(region, key=region.count)"
   ]
  },
  {
   "cell_type": "code",
   "execution_count": 106,
   "metadata": {},
   "outputs": [
    {
     "name": "stdout",
     "output_type": "stream",
     "text": [
      "southeast\n"
     ]
    }
   ],
   "source": [
    "print(region_most_residents)"
   ]
  },
  {
   "cell_type": "code",
   "execution_count": 113,
   "metadata": {},
   "outputs": [
    {
     "name": "stdout",
     "output_type": "stream",
     "text": [
      "average charges for smokers: 32050.23183153284\n",
      "average charges for non smokers: 8434.268297856212\n"
     ]
    }
   ],
   "source": [
    "#analysis for charges for smokers and non smokers\n",
    "sum_chrages_smoker = 0\n",
    "sum_charges_non_smoker = 0\n",
    "num_smokers = sum(s.count('yes') for s in smoker)\n",
    "num_non_smokers = sum(s.count('no') for s in smoker)\n",
    "\n",
    "for i in range(0,len(ages)):\n",
    "    if smoker[i] == 'yes':\n",
    "        sum_chrages_smoker += charges[i]\n",
    "    if smoker[i] == 'no':\n",
    "        sum_charges_non_smoker += charges[i]\n",
    "\n",
    "avg_charge_smoker = sum_chrages_smoker/num_smokers\n",
    "print('average charges for smokers: '+str(avg_charge_smoker))\n",
    "avg_charge_non_smoker = sum_charges_non_smoker/num_non_smokers\n",
    "print('average charges for non smokers: '+str(avg_charge_non_smoker))\n"
   ]
  },
  {
   "cell_type": "code",
   "execution_count": 115,
   "metadata": {},
   "outputs": [
    {
     "name": "stdout",
     "output_type": "stream",
     "text": [
      "13949.941093481677\n"
     ]
    }
   ],
   "source": [
    "def calc_avg_age_for_one_child(ages, children, charges):\n",
    "    sum_charges = 0\n",
    "    num_one_children = 0\n",
    "    for i in range(len(ages)):\n",
    "        if children[i] >= 1:\n",
    "            num_one_children+=1\n",
    "            sum_charges+=charges[i]\n",
    "    return sum_charges/num_one_children\n",
    "    \n",
    "print(calc_avg_age_for_one_child(ages=ages, children = children, charges = charges))"
   ]
  }
 ],
 "metadata": {
  "kernelspec": {
   "display_name": "Python 3 (ipykernel)",
   "language": "python",
   "name": "python3"
  },
  "language_info": {
   "codemirror_mode": {
    "name": "ipython",
    "version": 3
   },
   "file_extension": ".py",
   "mimetype": "text/x-python",
   "name": "python",
   "nbconvert_exporter": "python",
   "pygments_lexer": "ipython3",
   "version": "3.12.4"
  }
 },
 "nbformat": 4,
 "nbformat_minor": 4
}
